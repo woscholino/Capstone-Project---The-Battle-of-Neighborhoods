{
 "cells": [
  {
   "cell_type": "markdown",
   "id": "a639c428",
   "metadata": {},
   "source": [
    "<h1>Final Project Introduction</h1>\n",
    "<h2>Founding a business in Munich</h2>"
   ]
  },
  {
   "cell_type": "markdown",
   "id": "62c24013",
   "metadata": {},
   "source": [
    "<h3>Introduction</h3>\n",
    "Munich is the capital of the Freistaat Bayern and has a population of 1.488.202 (31.12.2020). Munich is the third largest municipality in Germany and the most densely populated municipality in Germany with 4790 inhabitants per square kilometer.\n"
   ]
  },
  {
   "cell_type": "markdown",
   "id": "c665d388",
   "metadata": {},
   "source": [
    "<h3>Business Problem</h3>\n",
    "You want to open a restaurant in Munich. The right choice of location can deliver a decisive competitive advantage. Which Munich district to choose to open a restaurant? Based on the Foursquare Data and a Classification Algorithm the different districts are clustered in categories."
   ]
  },
  {
   "cell_type": "markdown",
   "id": "1203137f",
   "metadata": {},
   "source": [
    "<h3>Data</h3>\n",
    "The following data was used for this project.\n",
    "\n",
    "- Munich Neighborhoods https://de.wikipedia.org/wiki/Stadtbezirke_M%C3%BCnchens\n",
    "- Foursquare Data\n",
    "- Longitude and Latitude Data\n"
   ]
  },
  {
   "cell_type": "markdown",
   "id": "e61df47e",
   "metadata": {},
   "source": [
    "<h4>Munich Neighborhoods</h4>"
   ]
  },
  {
   "cell_type": "markdown",
   "id": "fe54bffd",
   "metadata": {},
   "source": [
    "The Munich Neigborhoods data was extracted by Wikipedia with beautiful soup"
   ]
  },
  {
   "cell_type": "code",
   "execution_count": 5,
   "id": "ec886f93",
   "metadata": {},
   "outputs": [
    {
     "data": {
      "text/html": [
       "<div>\n",
       "<style scoped>\n",
       "    .dataframe tbody tr th:only-of-type {\n",
       "        vertical-align: middle;\n",
       "    }\n",
       "\n",
       "    .dataframe tbody tr th {\n",
       "        vertical-align: top;\n",
       "    }\n",
       "\n",
       "    .dataframe thead th {\n",
       "        text-align: right;\n",
       "    }\n",
       "</style>\n",
       "<table border=\"1\" class=\"dataframe\">\n",
       "  <thead>\n",
       "    <tr style=\"text-align: right;\">\n",
       "      <th></th>\n",
       "      <th>Nr.</th>\n",
       "      <th>Stadtbezirk</th>\n",
       "      <th>Fläche(km²)</th>\n",
       "      <th>Einwohner</th>\n",
       "      <th>Dichte(Einw./km²)</th>\n",
       "      <th>Ausländer(%)</th>\n",
       "    </tr>\n",
       "  </thead>\n",
       "  <tbody>\n",
       "    <tr>\n",
       "      <th>0</th>\n",
       "      <td>1</td>\n",
       "      <td>Altstadt-Lehel</td>\n",
       "      <td>3,15</td>\n",
       "      <td>20.960</td>\n",
       "      <td>6.663</td>\n",
       "      <td>25,2</td>\n",
       "    </tr>\n",
       "    <tr>\n",
       "      <th>1</th>\n",
       "      <td>2</td>\n",
       "      <td>Ludwigsvorstadt-Isarvorstadt</td>\n",
       "      <td>4,40</td>\n",
       "      <td>51.547</td>\n",
       "      <td>11.711</td>\n",
       "      <td>28,2</td>\n",
       "    </tr>\n",
       "    <tr>\n",
       "      <th>2</th>\n",
       "      <td>3</td>\n",
       "      <td>Maxvorstadt</td>\n",
       "      <td>4,30</td>\n",
       "      <td>51.530</td>\n",
       "      <td>11.989</td>\n",
       "      <td>25,6</td>\n",
       "    </tr>\n",
       "    <tr>\n",
       "      <th>3</th>\n",
       "      <td>4</td>\n",
       "      <td>Schwabing-West</td>\n",
       "      <td>4,36</td>\n",
       "      <td>68.750</td>\n",
       "      <td>15.756</td>\n",
       "      <td>22,9</td>\n",
       "    </tr>\n",
       "    <tr>\n",
       "      <th>4</th>\n",
       "      <td>5</td>\n",
       "      <td>Au-Haidhausen</td>\n",
       "      <td>4,22</td>\n",
       "      <td>62.353</td>\n",
       "      <td>14.776</td>\n",
       "      <td>23,6</td>\n",
       "    </tr>\n",
       "  </tbody>\n",
       "</table>\n",
       "</div>"
      ],
      "text/plain": [
       "  Nr.                   Stadtbezirk Fläche(km²) Einwohner Dichte(Einw./km²)  \\\n",
       "0   1                Altstadt-Lehel        3,15    20.960             6.663   \n",
       "1   2  Ludwigsvorstadt-Isarvorstadt        4,40    51.547            11.711   \n",
       "2   3                   Maxvorstadt        4,30    51.530            11.989   \n",
       "3   4                Schwabing-West        4,36    68.750            15.756   \n",
       "4   5                 Au-Haidhausen        4,22    62.353            14.776   \n",
       "\n",
       "  Ausländer(%)  \n",
       "0         25,2  \n",
       "1         28,2  \n",
       "2         25,6  \n",
       "3         22,9  \n",
       "4         23,6  "
      ]
     },
     "execution_count": 5,
     "metadata": {},
     "output_type": "execute_result"
    }
   ],
   "source": [
    "import pandas as pd\n",
    "import requests\n",
    "from bs4 import BeautifulSoup\n",
    "\n",
    "url_path = ('https://de.wikipedia.org/wiki/Stadtbezirke_M%C3%BCnchens')\n",
    "html_text = requests.get(url_path).text\n",
    "soup = BeautifulSoup(html_text)\n",
    "wiki_tables = soup.find_all('table', {'class': 'wikitable sortable'})\n",
    "first_table = wiki_tables[0].find_all(\"tr\")\n",
    "# Extracting the text from the table cells\n",
    "table_list = []\n",
    "\n",
    "for tr in first_table:\n",
    "    td = tr.find_all('td')\n",
    "    row = [ele.text.strip() for ele in td]\n",
    "    table_list.append(row)\n",
    "    \n",
    "df = pd.DataFrame(table_list, columns=['Nr.', 'Stadtbezirk', 'Fläche(km²)', 'Einwohner', 'Dichte(Einw./km²)', 'Ausländer(%)'])\n",
    "df = df.dropna(how='all').reset_index(drop=True)\n",
    "df.head()"
   ]
  },
  {
   "cell_type": "markdown",
   "id": "b452facf",
   "metadata": {},
   "source": [
    "The above dataframe shows the data extracted from Wikipedia. These were further enriched with longitude and latitude data and combined with the Foursquare data."
   ]
  },
  {
   "cell_type": "code",
   "execution_count": null,
   "id": "d5216510",
   "metadata": {},
   "outputs": [],
   "source": []
  }
 ],
 "metadata": {
  "kernelspec": {
   "display_name": "Python 3 (ipykernel)",
   "language": "python",
   "name": "python3"
  },
  "language_info": {
   "codemirror_mode": {
    "name": "ipython",
    "version": 3
   },
   "file_extension": ".py",
   "mimetype": "text/x-python",
   "name": "python",
   "nbconvert_exporter": "python",
   "pygments_lexer": "ipython3",
   "version": "3.9.6"
  }
 },
 "nbformat": 4,
 "nbformat_minor": 5
}
